{
  "nbformat": 4,
  "nbformat_minor": 0,
  "metadata": {
    "colab": {
      "provenance": []
    },
    "kernelspec": {
      "name": "python3",
      "display_name": "Python 3"
    },
    "language_info": {
      "name": "python"
    }
  },
  "cells": [
    {
      "cell_type": "code",
      "execution_count": null,
      "metadata": {
        "id": "SlV-5nfyeYqj"
      },
      "outputs": [],
      "source": []
    },
    {
      "cell_type": "markdown",
      "source": [
        " 1.what is data structures ?\n",
        "\n",
        " - data structers is a thing that can be changes data .\n",
        "\n",
        " 2.\n"
      ],
      "metadata": {
        "id": "HW8Dd1gtedWy"
      }
    },
    {
      "cell_type": "code",
      "source": [],
      "metadata": {
        "id": "1rA8Ow5Xeefx"
      },
      "execution_count": null,
      "outputs": []
    },
    {
      "cell_type": "markdown",
      "source": [],
      "metadata": {
        "id": "Lt05WwABee9y"
      }
    }
  ]
}